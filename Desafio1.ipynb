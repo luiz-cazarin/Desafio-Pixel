{
 "cells": [
  {
   "cell_type": "code",
   "execution_count": 53,
   "metadata": {},
   "outputs": [],
   "source": [
    "# Desafio pixel syngenta digital\n",
    "# Desenvolvimento usando jupyter\n",
    "# Utilizando python e as biblioteca NumPy e matplotlib\n",
    "import numpy as np\n",
    "import matplotlib.pyplot as plt"
   ]
  },
  {
   "cell_type": "code",
   "execution_count": 54,
   "metadata": {},
   "outputs": [],
   "source": [
    "# Atribuímos a imagem a uma variável usando o método plt.imread( )\n",
    "# Passando o arquivo da imagem como parâmetro\n",
    "img = plt.imread('Syngenta.bmp')"
   ]
  },
  {
   "cell_type": "code",
   "execution_count": 55,
   "metadata": {},
   "outputs": [
    {
     "data": {
      "text/plain": [
       "numpy.ndarray"
      ]
     },
     "execution_count": 55,
     "metadata": {},
     "output_type": "execute_result"
    }
   ],
   "source": [
    "# Verificamos o tipo do arquivo\n",
    "type(img)\n",
    "# Sabendo que é um objeto de array n-dimensional homogêneo"
   ]
  },
  {
   "cell_type": "code",
   "execution_count": 56,
   "metadata": {},
   "outputs": [
    {
     "data": {
      "text/plain": [
       "(300, 420, 4)"
      ]
     },
     "execution_count": 56,
     "metadata": {},
     "output_type": "execute_result"
    }
   ],
   "source": [
    "# Verificamos os dados do arquivo\n",
    "img.shape"
   ]
  },
  {
   "cell_type": "code",
   "execution_count": 57,
   "metadata": {},
   "outputs": [],
   "source": [
    "# Atribuímos o arquivo a uma variável\n",
    "# img[linha, coluna, camada]\n",
    "a = img[:,:,:]"
   ]
  },
  {
   "cell_type": "code",
   "execution_count": 58,
   "metadata": {},
   "outputs": [
    {
     "data": {
      "text/plain": [
       "array([  0,  96, 192, 255], dtype=uint8)"
      ]
     },
     "execution_count": 58,
     "metadata": {},
     "output_type": "execute_result"
    }
   ],
   "source": [
    "# Usamos a função unique para pegar apenas os valores únicos\n",
    "np.unique(a)"
   ]
  },
  {
   "cell_type": "code",
   "execution_count": 59,
   "metadata": {},
   "outputs": [],
   "source": [
    "# Descobrimos que existe 4 valores (4 camadas)\n",
    "# Sabemos que as cores são representadas em uma escala de 0 a 255\n",
    "# Sendo 0 = preto e 255 = branco em decimal\n",
    "# Ao analisarmos a imagem em um editor\n",
    "# Descobrimos que a cor do pixel verde contém os seguintes valores #60c000 que são representados em hexadecimal\n",
    "# Podemos representar em #RGB sendo 60 o valor do Red, c0 o valor do Green e 00 o valor do Blue\n",
    "# convertendo os valores retornados da última função [ 0, 96, 192, 255] em hexadecimal\n",
    "# Sabemos que os valores são iguais a 96 = 60, e 192 = c0, ou seja, a combinação dessas cores forma o pixel verde (#60c000)"
   ]
  },
  {
   "cell_type": "code",
   "execution_count": 60,
   "metadata": {},
   "outputs": [
    {
     "name": "stdout",
     "output_type": "stream",
     "text": [
      "(array([  0,  96, 192, 255], dtype=uint8), array([376006,    298,    298, 127398], dtype=int64))\n"
     ]
    }
   ],
   "source": [
    "# Pegando a soma dos valores unicos [  0,  96, 192, 255]\n",
    "np.unique(a, return_counts=True)\n",
    "print(np.unique(a, return_counts=True))"
   ]
  },
  {
   "cell_type": "code",
   "execution_count": 61,
   "metadata": {},
   "outputs": [],
   "source": [
    "# Ao somar os valores dos pixels, retornamos [376006,    298,    298, 127398]\n",
    "# sabendo que o segundo e o terceiro valor são responsáveis pela cor verde\n",
    "# descobrimos que a existem 298 pixels verdes"
   ]
  }
 ],
 "metadata": {
  "kernelspec": {
   "display_name": "Python 3",
   "language": "python",
   "name": "python3"
  },
  "language_info": {
   "codemirror_mode": {
    "name": "ipython",
    "version": 3
   },
   "file_extension": ".py",
   "mimetype": "text/x-python",
   "name": "python",
   "nbconvert_exporter": "python",
   "pygments_lexer": "ipython3",
   "version": "3.8.5"
  }
 },
 "nbformat": 4,
 "nbformat_minor": 4
}
